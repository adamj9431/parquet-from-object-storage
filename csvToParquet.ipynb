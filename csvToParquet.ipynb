{
 "cells": [
  {
   "cell_type": "markdown",
   "metadata": {},
   "source": [
    "This notebook reads in two tables of data from the MBTA (data in GTFS format; available [here](http://transitfeeds.com/p/mbta/64)), joins the tables, then outputs the result in a Parquet table.\n",
    "\n",
    "The resulting Parquet table is used in [this tutorial](https://medium.com/@adamj9431/upload-files-to-ibm-data-science-experience-using-the-command-line-bb482fae1d73#.1z6ph8kag)."
   ]
  },
  {
   "cell_type": "code",
   "execution_count": 98,
   "metadata": {
    "collapsed": true
   },
   "outputs": [],
   "source": [
    "from pyspark.sql.functions import *\n",
    "from pyspark.sql.types import *\n",
    "projectPath = \"/Users/adam/Projects/mbta-data/gtfs/\""
   ]
  },
  {
   "cell_type": "markdown",
   "metadata": {},
   "source": [
    "Import a csv file using the Databricks reader"
   ]
  },
  {
   "cell_type": "code",
   "execution_count": 99,
   "metadata": {
    "collapsed": false
   },
   "outputs": [],
   "source": [
    "csvPath = projectPath + \"stop_times.txt\"\n",
    "stopTimes = sqlContext.read.format('com.databricks.spark.csv').options(header='true', inferschema='true').load(csvPath)"
   ]
  },
  {
   "cell_type": "code",
   "execution_count": 100,
   "metadata": {
    "collapsed": false
   },
   "outputs": [
    {
     "name": "stdout",
     "output_type": "stream",
     "text": [
      "root\n",
      " |-- trip_id: string (nullable = true)\n",
      " |-- arrival_time: string (nullable = true)\n",
      " |-- departure_time: string (nullable = true)\n",
      " |-- stop_id: string (nullable = true)\n",
      " |-- stop_sequence: integer (nullable = true)\n",
      " |-- stop_headsign: string (nullable = true)\n",
      " |-- pickup_type: integer (nullable = true)\n",
      " |-- drop_off_type: integer (nullable = true)\n",
      "\n"
     ]
    },
    {
     "data": {
      "text/plain": [
       "Row(trip_id=u'29063613', arrival_time=u'14:32:00', departure_time=u'14:32:00', stop_id=u'12295', stop_sequence=1, stop_headsign=u'', pickup_type=0, drop_off_type=1)"
      ]
     },
     "execution_count": 100,
     "metadata": {},
     "output_type": "execute_result"
    }
   ],
   "source": [
    "stopTimes.printSchema()\n",
    "stopTimes.first()"
   ]
  },
  {
   "cell_type": "markdown",
   "metadata": {},
   "source": [
    "Modify the schema"
   ]
  },
  {
   "cell_type": "code",
   "execution_count": 101,
   "metadata": {
    "collapsed": false
   },
   "outputs": [],
   "source": [
    "stopTimes = stopTimes.select(col('trip_id').astype(IntegerType()),\n",
    "                 col('arrival_time'),\n",
    "                 col('departure_time'),\n",
    "                 col('stop_id').astype(IntegerType()),\n",
    "                 col('stop_sequence'),\n",
    "                 col('stop_headsign'),\n",
    "                 col('pickup_type'),\n",
    "                 col('drop_off_type'))"
   ]
  },
  {
   "cell_type": "code",
   "execution_count": 102,
   "metadata": {
    "collapsed": true
   },
   "outputs": [],
   "source": [
    "csvPath = projectPath + \"stops.txt\"\n",
    "stops = sqlContext.read.format('com.databricks.spark.csv').options(header='true', inferschema='true').load(csvPath)"
   ]
  },
  {
   "cell_type": "code",
   "execution_count": 103,
   "metadata": {
    "collapsed": false
   },
   "outputs": [],
   "source": [
    "stops = stops.select('*', col('stop_id').astype(IntegerType()).alias('stop_id_int')).drop(stops.stop_id)"
   ]
  },
  {
   "cell_type": "code",
   "execution_count": 104,
   "metadata": {
    "collapsed": false
   },
   "outputs": [],
   "source": [
    "stopsJoined = stopTimes.join(stops, stopTimes.stop_id==stops.stop_id_int).drop('stop_id_int')"
   ]
  },
  {
   "cell_type": "code",
   "execution_count": 105,
   "metadata": {
    "collapsed": false
   },
   "outputs": [
    {
     "name": "stdout",
     "output_type": "stream",
     "text": [
      "root\n",
      " |-- trip_id: integer (nullable = true)\n",
      " |-- arrival_time: string (nullable = true)\n",
      " |-- departure_time: string (nullable = true)\n",
      " |-- stop_id: integer (nullable = true)\n",
      " |-- stop_sequence: integer (nullable = true)\n",
      " |-- stop_headsign: string (nullable = true)\n",
      " |-- pickup_type: integer (nullable = true)\n",
      " |-- drop_off_type: integer (nullable = true)\n",
      " |-- stop_code: integer (nullable = true)\n",
      " |-- stop_name: string (nullable = true)\n",
      " |-- stop_desc: string (nullable = true)\n",
      " |-- stop_lat: double (nullable = true)\n",
      " |-- stop_lon: double (nullable = true)\n",
      " |-- zone_id: string (nullable = true)\n",
      " |-- stop_url: string (nullable = true)\n",
      " |-- location_type: integer (nullable = true)\n",
      " |-- parent_station: string (nullable = true)\n",
      " |-- wheelchair_boarding: integer (nullable = true)\n",
      "\n"
     ]
    }
   ],
   "source": [
    "stopsJoined.printSchema()"
   ]
  },
  {
   "cell_type": "code",
   "execution_count": 106,
   "metadata": {
    "collapsed": true
   },
   "outputs": [],
   "source": [
    "stopsJoined.repartition(30).write.parquet(projectPath + \"mbtaStopFreq.parquet\")"
   ]
  }
 ],
 "metadata": {
  "kernelspec": {
   "display_name": "Python 2",
   "language": "python",
   "name": "python2"
  },
  "language_info": {
   "codemirror_mode": {
    "name": "ipython",
    "version": 2
   },
   "file_extension": ".py",
   "mimetype": "text/x-python",
   "name": "python",
   "nbconvert_exporter": "python",
   "pygments_lexer": "ipython2",
   "version": "2.7.11"
  }
 },
 "nbformat": 4,
 "nbformat_minor": 0
}
